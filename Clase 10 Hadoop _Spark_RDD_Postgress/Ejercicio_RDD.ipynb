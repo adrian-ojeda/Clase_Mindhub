{
  "nbformat": 4,
  "nbformat_minor": 0,
  "metadata": {
    "colab": {
      "name": "Ejercicio_RDD.ipynb",
      "provenance": [],
      "collapsed_sections": []
    },
    "kernelspec": {
      "name": "python3",
      "display_name": "Python 3"
    }
  },
  "cells": [
    {
      "cell_type": "code",
      "metadata": {
        "colab": {
          "base_uri": "https://localhost:8080/"
        },
        "id": "AOJl4KpHpE65",
        "outputId": "1ead5ff9-e9e0-4fff-ce81-6848dc77541f"
      },
      "source": [
        "!pip install pyspark\r\n"
      ],
      "execution_count": 2,
      "outputs": [
        {
          "output_type": "stream",
          "text": [
            "Collecting pyspark\n",
            "\u001b[?25l  Downloading https://files.pythonhosted.org/packages/f0/26/198fc8c0b98580f617cb03cb298c6056587b8f0447e20fa40c5b634ced77/pyspark-3.0.1.tar.gz (204.2MB)\n",
            "\u001b[K     |████████████████████████████████| 204.2MB 64kB/s \n",
            "\u001b[?25hCollecting py4j==0.10.9\n",
            "\u001b[?25l  Downloading https://files.pythonhosted.org/packages/9e/b6/6a4fb90cd235dc8e265a6a2067f2a2c99f0d91787f06aca4bcf7c23f3f80/py4j-0.10.9-py2.py3-none-any.whl (198kB)\n",
            "\u001b[K     |████████████████████████████████| 204kB 42.7MB/s \n",
            "\u001b[?25hBuilding wheels for collected packages: pyspark\n",
            "  Building wheel for pyspark (setup.py) ... \u001b[?25l\u001b[?25hdone\n",
            "  Created wheel for pyspark: filename=pyspark-3.0.1-py2.py3-none-any.whl size=204612243 sha256=dc05a9a52b0313bc394076a6443dc945c3a797bcabd440cbb9d1d9af2c48fe75\n",
            "  Stored in directory: /root/.cache/pip/wheels/5e/bd/07/031766ca628adec8435bb40f0bd83bb676ce65ff4007f8e73f\n",
            "Successfully built pyspark\n",
            "Installing collected packages: py4j, pyspark\n",
            "Successfully installed py4j-0.10.9 pyspark-3.0.1\n"
          ],
          "name": "stdout"
        }
      ]
    },
    {
      "cell_type": "code",
      "metadata": {
        "id": "zlnSSuv0psQf"
      },
      "source": [
        "import pyspark\r\n",
        "from pyspark import SparkContext\r\n",
        "\r\n",
        "sc=SparkContext()"
      ],
      "execution_count": 3,
      "outputs": []
    },
    {
      "cell_type": "code",
      "metadata": {
        "id": "332BimYjp699"
      },
      "source": [
        "nums=sc.parallelize([1,2,3,4])"
      ],
      "execution_count": 4,
      "outputs": []
    },
    {
      "cell_type": "code",
      "metadata": {
        "colab": {
          "base_uri": "https://localhost:8080/"
        },
        "id": "9RiPjWB8qI7X",
        "outputId": "f37f7e49-dbd5-44f4-bf67-0a3efd07f550"
      },
      "source": [
        "squared = nums.map(lambda x:x*x).collect()\r\n",
        "\r\n",
        "for num in squared:\r\n",
        "    print(\"%i\"%(num))"
      ],
      "execution_count": 5,
      "outputs": [
        {
          "output_type": "stream",
          "text": [
            "1\n",
            "4\n",
            "9\n",
            "16\n"
          ],
          "name": "stdout"
        }
      ]
    },
    {
      "cell_type": "code",
      "metadata": {
        "id": "wZbcHQqAqpEv"
      },
      "source": [
        "from pyspark.sql import Row\r\n",
        "from pyspark.sql import SQLContext\r\n",
        "\r\n",
        "sqlContext = SQLContext(sc)"
      ],
      "execution_count": 9,
      "outputs": []
    },
    {
      "cell_type": "code",
      "metadata": {
        "colab": {
          "base_uri": "https://localhost:8080/"
        },
        "id": "KfWsLNtwrpJ2",
        "outputId": "a5551e90-8bb6-4dbb-e780-9be61b692771"
      },
      "source": [
        "list_p = [('John',19),('Smith',29),('Adam',35),('Henry',50)]\r\n",
        "rdd = sc.parallelize(list_p)\r\n",
        "ppl = rdd.map(lambda x: Row(name=x[0], age=int(x[1])))\r\n",
        "DF_ppl = sqlContext.createDataFrame(ppl)\r\n",
        "DF_ppl.printSchema()"
      ],
      "execution_count": 12,
      "outputs": [
        {
          "output_type": "stream",
          "text": [
            "root\n",
            " |-- name: string (nullable = true)\n",
            " |-- age: long (nullable = true)\n",
            "\n"
          ],
          "name": "stdout"
        }
      ]
    }
  ]
}