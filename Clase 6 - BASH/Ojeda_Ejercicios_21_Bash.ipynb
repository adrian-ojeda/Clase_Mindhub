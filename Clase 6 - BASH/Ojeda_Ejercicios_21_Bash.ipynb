{
  "nbformat": 4,
  "nbformat_minor": 0,
  "metadata": {
    "kernelspec": {
      "display_name": "Python 3",
      "language": "python",
      "name": "python3"
    },
    "language_info": {
      "codemirror_mode": {
        "name": "ipython",
        "version": 3
      },
      "file_extension": ".py",
      "mimetype": "text/x-python",
      "name": "python",
      "nbconvert_exporter": "python",
      "pygments_lexer": "ipython3",
      "version": "3.6.9"
    },
    "colab": {
      "name": "Ojeda_Ejercicios_21_Bash.ipynb",
      "provenance": [],
      "collapsed_sections": []
    }
  },
  "cells": [
    {
      "cell_type": "markdown",
      "metadata": {
        "id": "p7g1G3hy0t7K"
      },
      "source": [
        "## Ejercicios de Bash y Comandos en Linux"
      ]
    },
    {
      "cell_type": "markdown",
      "metadata": {
        "id": "Xu2ukNVY0t7K"
      },
      "source": [
        "### Factorial\n",
        "\n",
        "Escribir una función `factorial(n)` que para cualquier número natural $n$ devuelve $n!$."
      ]
    },
    {
      "cell_type": "code",
      "metadata": {
        "colab": {
          "base_uri": "https://localhost:8080/"
        },
        "id": "Pg-rF7tf0t7K",
        "outputId": "d0b23004-9fdd-42cb-d2b1-93e8793ae859"
      },
      "source": [
        "%%bash\n",
        "f(){\n",
        "    x=\"$1\"\n",
        "    y=\"y\"\n",
        "    y=1\n",
        "    for ((i=1;i<\"$x\";i++)); do\n",
        "        y=$((y+y*i))\n",
        "    done\n",
        "    echo \"$y\"\n",
        "}\n",
        "echo \"$(f 5)\""
      ],
      "execution_count": 3,
      "outputs": [
        {
          "output_type": "stream",
          "text": [
            "120\n"
          ],
          "name": "stdout"
        }
      ]
    },
    {
      "cell_type": "code",
      "metadata": {
        "colab": {
          "base_uri": "https://localhost:8080/"
        },
        "id": "UkxA9pdu6I1L",
        "outputId": "4d232634-39f7-4409-bcc5-ec03d843393f"
      },
      "source": [
        "%%bash\n",
        "f(){\n",
        "    x=\"$1\"\n",
        "    i=1\n",
        "    while [ $x -gt 0 ]; do\n",
        "        i=$((i*x))\n",
        "        x=$((x-1))\n",
        "    done\n",
        "    echo \"$i\"\n",
        "}\n",
        "\n",
        "echo \"$(f 5)\""
      ],
      "execution_count": 5,
      "outputs": [
        {
          "output_type": "stream",
          "text": [
            "120\n"
          ],
          "name": "stdout"
        }
      ]
    },
    {
      "cell_type": "markdown",
      "metadata": {
        "id": "NLaa8siD0t7K"
      },
      "source": [
        "### Parseo de cadenas\n",
        "\n",
        "Obtener todos los caracteres en posición par de la cadena H1e2l3l4o5w6o7r8l9d."
      ]
    },
    {
      "cell_type": "code",
      "metadata": {
        "colab": {
          "base_uri": "https://localhost:8080/"
        },
        "id": "payEVizL0t7K",
        "outputId": "dd9ad263-38d1-4977-ef7b-467c948a4da0"
      },
      "source": [
        "%%bash\n",
        "\n",
        "cadena=\"H1e2l3l4o5w6o7r8l9d\"\n",
        "\n",
        "echo \"$cadena\"  | sed \"s/[0-9\"]\"//g\"\n"
      ],
      "execution_count": 5,
      "outputs": [
        {
          "output_type": "stream",
          "text": [
            "Helloworld\n"
          ],
          "name": "stdout"
        }
      ]
    },
    {
      "cell_type": "code",
      "metadata": {
        "colab": {
          "base_uri": "https://localhost:8080/"
        },
        "id": "Cnz-C5UXj2bk",
        "outputId": "4b2eda7e-e25a-415c-828d-22482d6bfea7"
      },
      "source": [
        "%%bash\n",
        "\n",
        "text=\"H1e2l3l4o5w6o7r8l9d\"\n",
        "newText=\"\"\n",
        "\n",
        "for((i=0; i<${#text};i++)); do\n",
        "    if (($i%2==0)); then\n",
        "        newText+=\"${text:$i:1}\"\n",
        "    fi\n",
        "done\n",
        "echo \"$newText\""
      ],
      "execution_count": 6,
      "outputs": [
        {
          "output_type": "stream",
          "text": [
            "Helloworld\n"
          ],
          "name": "stdout"
        }
      ]
    },
    {
      "cell_type": "code",
      "metadata": {
        "colab": {
          "base_uri": "https://localhost:8080/"
        },
        "id": "vbTx5YSk6z6K",
        "outputId": "b241886a-00bc-4ed2-de07-17d0d88f4402"
      },
      "source": [
        "%%bash\n",
        "echo \"H1e2l3l4o5w6o7r8l9d\" | awk -vFS= '{for (i = 0; i <= NF; i+=2) {printf $(i+1)\"\"} printf \"\\n\"}'"
      ],
      "execution_count": 7,
      "outputs": [
        {
          "output_type": "stream",
          "text": [
            "Helloworld\n"
          ],
          "name": "stdout"
        }
      ]
    },
    {
      "cell_type": "markdown",
      "metadata": {
        "id": "FX1RFBOW0t7K"
      },
      "source": [
        "### Fechas con while loops\n",
        "\n",
        "Imprima, en un while loop, todas las fechas entre el 18 y 25 de mayo de este año. Ademas guarde en una lista (array) todas las fechas cuyo día del mes sea divisible por 3."
      ]
    },
    {
      "cell_type": "code",
      "metadata": {
        "id": "ztlVDr8r0t7K",
        "colab": {
          "base_uri": "https://localhost:8080/"
        },
        "outputId": "d3869140-cfde-42c3-aedd-2d26fa907782"
      },
      "source": [
        "%%bash\n",
        "\n",
        "start_date=\"2020-05-18\"\n",
        "end_date=\"2020-05-25\"\n",
        "start_day=$(echo \"$start_date\" | cut -d '-' -f3)\n",
        "end_day=$(echo \"$end_date\" | cut -d '-' -f3)\n",
        "mod_3_dates=()\n",
        "\n",
        "for i in {18..25}; do\n",
        "  echo \"$i de Mayo \"\n",
        "done\n",
        "\n",
        "while [ \"$start_day\" -le \"$end_day\" ];\n",
        "do\n",
        "     if(($start_day % 3== 0))\n",
        "     then\n",
        "        mod_3_dates+=\"$start_day de Mayo \"\n",
        "     fi\n",
        "     start_day=$((start_day+1))\n",
        "done\n",
        "\n",
        "echo \"\"\n",
        "echo \"Dias divisibles por 3\"\n",
        "echo \"${mod_3_dates[@]}\"\n",
        "    \n"
      ],
      "execution_count": 24,
      "outputs": [
        {
          "output_type": "stream",
          "text": [
            "18 de Mayo \n",
            "19 de Mayo \n",
            "20 de Mayo \n",
            "21 de Mayo \n",
            "22 de Mayo \n",
            "23 de Mayo \n",
            "24 de Mayo \n",
            "25 de Mayo \n",
            "\n",
            "Dias divisibles por 3\n",
            "18 de Mayo 21 de Mayo 24 de Mayo \n"
          ],
          "name": "stdout"
        }
      ]
    },
    {
      "cell_type": "markdown",
      "metadata": {
        "id": "GgDvLXrn0t7K"
      },
      "source": [
        "### Prompt con git branch\n",
        "\n",
        "PS1 es la variable de entorno que define el prompt. Modifique esta variable de entorno de forma tal que el prompt revele la siguiente información respetando el orden: user@host|working_dir|git branch>.\n",
        "\n",
        "Hint: hacer estos cambios en el archivo .bashrc.\n"
      ]
    },
    {
      "cell_type": "code",
      "metadata": {
        "id": "9Lj8qI_R0t7K"
      },
      "source": [
        "%%bash\n",
        "\n",
        "# Archivo \"calculadora.sh\" en el zip , solo funciona por terminal.\n",
        "\n",
        "echo \"Ingrese un número: \"\n",
        "read num1\n",
        "echo \"Escriba la operación (suma/resta/multiplicacion/division):\"\n",
        "read operacion\n",
        "echo \"Ingrese otro número:\"\n",
        "read num2\n",
        "\"\"\"\n",
        "suma(){\n",
        "  num1=\"$1\"\n",
        "  num2=\"$2\"\n",
        "  echo \"$(($num1+$num2))\"\n",
        "}\n",
        "resta(){\n",
        "  num1=\"$1\"\n",
        "  num2=\"$2\"\n",
        "  echo \"$(($num1-$num2))\"\n",
        "}\n",
        "multiplicacion(){\n",
        "  num1=\"$1\"\n",
        "  num2=\"$2\"\n",
        "  echo \"$(($num1*$num2))\"\n",
        "}\n",
        "division(){\n",
        "  num1=\"$1\"\n",
        "  num2=\"$2\"\n",
        "  echo \"$(($num1/$num2))\"\n",
        "}\n",
        "if [ $operacion == \"suma\" ]; then\n",
        "    echo $(suma $num1 $num2)\n",
        "elif [ $operacion == \"resta\" ]; then\n",
        "    echo $(resta $num1 $num2)\n",
        "elif [ $operacion == \"multiplicacion\" ]; then\n",
        "    echo $(multiplicacion $num1 $num2)\n",
        "elif [ $operacion == \"division\" ]; then\n",
        "    echo $(division $num1 $num2)\n",
        "fi\n"
      ],
      "execution_count": null,
      "outputs": []
    },
    {
      "cell_type": "markdown",
      "metadata": {
        "id": "Tu0Y7NDw0t7K"
      },
      "source": [
        "### find y grep\n",
        "\n",
        "- Contar la cantidad de archivos python `*.py` que hay en tu home (o cualquier otro directorio que elijas).\n",
        "- Para todos estos archivos contar las cantidad de ocurrencias del keyword `for`."
      ]
    },
    {
      "cell_type": "code",
      "metadata": {
        "id": "5vxbv0EB0t7K"
      },
      "source": [
        "%%bash\n",
        "\n",
        "find . -name \"*.py\"\n",
        "#./python.py\n",
        "\n",
        "grep -n \"for\" *.py\n",
        "#1:for\n",
        "#3:for\n",
        "#5:for\n",
        "\n",
        "# No me da output en Colaboratory pero por terminal bien.\n"
      ],
      "execution_count": 27,
      "outputs": []
    }
  ]
}