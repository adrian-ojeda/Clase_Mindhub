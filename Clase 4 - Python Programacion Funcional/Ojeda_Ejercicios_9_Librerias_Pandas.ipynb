{
  "nbformat": 4,
  "nbformat_minor": 0,
  "metadata": {
    "kernelspec": {
      "display_name": "Python 3",
      "language": "python",
      "name": "python3"
    },
    "language_info": {
      "codemirror_mode": {
        "name": "ipython",
        "version": 3
      },
      "file_extension": ".py",
      "mimetype": "text/x-python",
      "name": "python",
      "nbconvert_exporter": "python",
      "pygments_lexer": "ipython3",
      "version": "3.6.9"
    },
    "colab": {
      "name": "Ojeda-Ejercicios-9-Librerias-Pandas.ipynb",
      "provenance": [],
      "collapsed_sections": []
    }
  },
  "cells": [
    {
      "cell_type": "markdown",
      "metadata": {
        "id": "v4byviC-dmR6"
      },
      "source": [
        "# Ejercicios de la Librería Pandas"
      ]
    },
    {
      "cell_type": "markdown",
      "metadata": {
        "id": "wRo0gJGYdmR6"
      },
      "source": [
        "## Ejercicio 1"
      ]
    },
    {
      "cell_type": "markdown",
      "metadata": {
        "id": "yVOkPzundmR6"
      },
      "source": [
        "Escribir un programa que pregunte al usuario por las ventas de un rango de años y muestre por pantalla una serie con los datos de las ventas indexada por los años, antes y después de aplicarles un descuento del 10%."
      ]
    },
    {
      "cell_type": "code",
      "metadata": {
        "colab": {
          "base_uri": "https://localhost:8080/"
        },
        "id": "mJXazE-PdmR6",
        "outputId": "14f0e1a7-c179-4e10-9183-e70200a5183f"
      },
      "source": [
        "datos={2015:0,2016:0,2017:0,2018:0,2019:0}\n",
        "\n",
        "for año, monto in datos.items():\n",
        "    venta=input(\"Ingrese venta en año: \"+ str(año)+\" \")\n",
        "    \n",
        "\n"
      ],
      "execution_count": 87,
      "outputs": [
        {
          "output_type": "stream",
          "text": [
            "Ingrese venta en año: 2015 1\n",
            "Ingrese venta en año: 2016 2\n",
            "Ingrese venta en año: 2017 3\n",
            "Ingrese venta en año: 2018 4\n",
            "Ingrese venta en año: 2019 5\n"
          ],
          "name": "stdout"
        }
      ]
    },
    {
      "cell_type": "markdown",
      "metadata": {
        "id": "I0TuK6a3dmR6"
      },
      "source": [
        "## Ejercicio 2"
      ]
    },
    {
      "cell_type": "markdown",
      "metadata": {
        "id": "A2EOEdTZdmR6"
      },
      "source": [
        "Escribir una función que reciba una diccionario con las notas de los alumnos en curso en un examen y devuelva una serie con la nota mínima, la máxima, media y la desviación típica."
      ]
    },
    {
      "cell_type": "code",
      "metadata": {
        "colab": {
          "base_uri": "https://localhost:8080/"
        },
        "id": "jPe91mRgdmR6",
        "outputId": "e057976d-4907-4b5e-92d1-fe8f08ab1c2e"
      },
      "source": [
        "import pandas as pd # Importamos la libreria necesaria.\n",
        "\n",
        "notas_alumnos={\"Darío\":8.5,\"Ludmila\":4.3,\"Natalia\":6.5,\"Lautaro\":10.0} # Creamos el diccionario con las notas.\n",
        "\n",
        "def Calculo_Notas(_notas_alumnos): # Definimos la función y le asignamos un diccionario com parámetro.\n",
        "    examen= pd.Series(_notas_alumnos) # Convertimos el diccionario en una Serie.\n",
        "    lista=[examen.min(),examen.max(),examen.mean(),examen.std()] # Creamos una lista con los valores resultantes de aplicar las funciones de calculo de la Serie.\n",
        "    valores= pd.Series([lista]) # Creamos la Serie definitiva a partir de la lista.\n",
        "    \n",
        "\n",
        "    return print(valores) # Imprimimos por consola los valores de la Serie definitiva.\n",
        "\n",
        "Calculo_Notas(notas_alumnos)  # Llamamos a la función (con el diccionario como parámetro).\n"
      ],
      "execution_count": 62,
      "outputs": [
        {
          "output_type": "stream",
          "text": [
            "0    [4.3, 10.0, 7.325, 2.4743686063317245]\n",
            "dtype: object\n"
          ],
          "name": "stdout"
        }
      ]
    },
    {
      "cell_type": "markdown",
      "metadata": {
        "id": "XHZpmyxkdmR6"
      },
      "source": [
        "## Ejercicio 3"
      ]
    },
    {
      "cell_type": "markdown",
      "metadata": {
        "id": "jWZUPRasdmR6"
      },
      "source": [
        "Escribir una función que reciba una diccionario con las notas de los alumnos en curso en un examen y devuelva una serie con las notas de los alumnos aprobados ordenadas de mayor a menor."
      ]
    },
    {
      "cell_type": "code",
      "metadata": {
        "colab": {
          "base_uri": "https://localhost:8080/"
        },
        "id": "GutidhyhdmR6",
        "outputId": "4d7ef681-224f-465b-93e4-4233e5f06862"
      },
      "source": [
        "import pandas as pd # Importamos la libreria necesaria.\n",
        "\n",
        "notas_examen={\"Alfredo\":9.0,\" Maria\":7.0,\"Marcos\":4.0,\"Andres\":3.0} # Definimos el diccionario con el nombre de alumnos y sus notas.\n",
        "\n",
        "def alumnos_aprobados(_notas_examen): # Definimos la funcion alumnos_aprobados(con el diccionario como parámetro).\n",
        "    notas_aprobadas= pd.Series(_notas_examen) # Creamos la Serie notas_aprobadas a partir del diccionario notas_examen{}.\n",
        "    \n",
        "    return print(\"Alumnos aprobados:\\n\",(notas_aprobadas[notas_aprobadas > 6])) # La función nos retorna el resultado de un filtrado de la serie mediante una condición.\n",
        "\n",
        "alumnos_aprobados(notas_examen) # Llamamos a la función alumnos_aprobados(con el diccionario como parámetro)."
      ],
      "execution_count": 65,
      "outputs": [
        {
          "output_type": "stream",
          "text": [
            "Alumnos aprobados:\n",
            " Alfredo    9.0\n",
            " Maria     7.0\n",
            "dtype: float64\n"
          ],
          "name": "stdout"
        }
      ]
    },
    {
      "cell_type": "markdown",
      "metadata": {
        "id": "7lBeTfmEdmR6"
      },
      "source": [
        "## Ejercicio 4"
      ]
    },
    {
      "cell_type": "markdown",
      "metadata": {
        "id": "0usYwrGYdmR6"
      },
      "source": [
        "Escribir programa que genere y muestre por pantalla un DataFrame con los datos de la tabla siguiente:\n",
        "<table>\n",
        "<thead>\n",
        "<tr>\n",
        "<th>Mes</th>\n",
        "<th style=\"text-align:right\">Ventas</th>\n",
        "<th style=\"text-align:right\">Gastos</th>\n",
        "</tr>\n",
        "</thead>\n",
        "<tbody>\n",
        "<tr>\n",
        "<td>Enero</td>\n",
        "<td style=\"text-align:right\">30500</td>\n",
        "<td style=\"text-align:right\">22000</td>\n",
        "</tr>\n",
        "<tr>\n",
        "<td>Febrero</td>\n",
        "<td style=\"text-align:right\">35600</td>\n",
        "<td style=\"text-align:right\">23400</td>\n",
        "</tr>\n",
        "<tr>\n",
        "<td>Marzo</td>\n",
        "<td style=\"text-align:right\">28300</td>\n",
        "<td style=\"text-align:right\">18100</td>\n",
        "</tr>\n",
        "<tr>\n",
        "<td>Abril</td>\n",
        "<td style=\"text-align:right\">33900</td>\n",
        "<td style=\"text-align:right\">20700</td>\n",
        "</tr>\n",
        "</tbody>\n",
        "</table>"
      ]
    },
    {
      "cell_type": "code",
      "metadata": {
        "colab": {
          "base_uri": "https://localhost:8080/"
        },
        "id": "3N1rFJW8dmR6",
        "outputId": "54f7f30a-2133-4da1-c042-3f3ad4cdb663"
      },
      "source": [
        "import pandas as pd # Importamos la libreria necesaria.\n",
        "\n",
        "# Creamos un diccionario de listas donde la clave sera el nombre de la futura columna y\n",
        "# en la lista agrupamos los valores de la columna.\n",
        "\n",
        "datos={\"Mes\":[\"Enero\",\"Febrero\",\"Marzo\",\"Abril\"], \n",
        "       \"Ventas\":[30500,35600,28300,33900],        \n",
        "       \"Gastos\":[22000,23400,18100,20700] }\n",
        "\n",
        "df=pd.DataFrame(datos) # Creamos el DataFrame a partir del diccionario asignado.\n",
        "\n",
        "print(df) # Imprimimos por pantalla el resultado."
      ],
      "execution_count": 43,
      "outputs": [
        {
          "output_type": "stream",
          "text": [
            "       Mes  Ventas  Gastos\n",
            "0    Enero   30500   22000\n",
            "1  Febrero   35600   23400\n",
            "2    Marzo   28300   18100\n",
            "3    Abril   33900   20700\n"
          ],
          "name": "stdout"
        }
      ]
    },
    {
      "cell_type": "markdown",
      "metadata": {
        "id": "N6PovpPhdmR6"
      },
      "source": [
        "## Ejercicio 5"
      ]
    },
    {
      "cell_type": "markdown",
      "metadata": {
        "id": "CEKNufojdmR7"
      },
      "source": [
        "Escribir una función que reciba un DataFrame con el formato del ejercicio anterior, una lista de meses, y devuelva el balance (ventas - gastos) total en los meses indicados."
      ]
    },
    {
      "cell_type": "code",
      "metadata": {
        "colab": {
          "base_uri": "https://localhost:8080/",
          "height": 313
        },
        "id": "jNmXb0GrdmR7",
        "outputId": "3a71c419-d149-41da-a7d2-568301272c00"
      },
      "source": [
        "import pandas as pd\n",
        "\n",
        "meses=[\"Enero\",\"Marzo\",\"Abril\"]\n",
        "\n",
        "def balance(df,meses):\n",
        "    for i in len(meses):\n",
        "        print(meses[i]) \n",
        "    \n",
        "    \n",
        "\n",
        "balance(df,meses)\n"
      ],
      "execution_count": 49,
      "outputs": [
        {
          "output_type": "error",
          "ename": "TypeError",
          "evalue": "ignored",
          "traceback": [
            "\u001b[0;31m---------------------------------------------------------------------------\u001b[0m",
            "\u001b[0;31mTypeError\u001b[0m                                 Traceback (most recent call last)",
            "\u001b[0;32m<ipython-input-49-48349da9e506>\u001b[0m in \u001b[0;36m<module>\u001b[0;34m()\u001b[0m\n\u001b[1;32m      9\u001b[0m \u001b[0;34m\u001b[0m\u001b[0m\n\u001b[1;32m     10\u001b[0m \u001b[0;34m\u001b[0m\u001b[0m\n\u001b[0;32m---> 11\u001b[0;31m \u001b[0mbalance\u001b[0m\u001b[0;34m(\u001b[0m\u001b[0mdf\u001b[0m\u001b[0;34m,\u001b[0m\u001b[0mmeses\u001b[0m\u001b[0;34m)\u001b[0m\u001b[0;34m\u001b[0m\u001b[0;34m\u001b[0m\u001b[0m\n\u001b[0m",
            "\u001b[0;32m<ipython-input-49-48349da9e506>\u001b[0m in \u001b[0;36mbalance\u001b[0;34m(df, meses)\u001b[0m\n\u001b[1;32m      4\u001b[0m \u001b[0;34m\u001b[0m\u001b[0m\n\u001b[1;32m      5\u001b[0m \u001b[0;32mdef\u001b[0m \u001b[0mbalance\u001b[0m\u001b[0;34m(\u001b[0m\u001b[0mdf\u001b[0m\u001b[0;34m,\u001b[0m\u001b[0mmeses\u001b[0m\u001b[0;34m)\u001b[0m\u001b[0;34m:\u001b[0m\u001b[0;34m\u001b[0m\u001b[0;34m\u001b[0m\u001b[0m\n\u001b[0;32m----> 6\u001b[0;31m     \u001b[0;32mfor\u001b[0m \u001b[0mi\u001b[0m \u001b[0;32min\u001b[0m \u001b[0mlen\u001b[0m\u001b[0;34m(\u001b[0m\u001b[0mmeses\u001b[0m\u001b[0;34m)\u001b[0m\u001b[0;34m:\u001b[0m\u001b[0;34m\u001b[0m\u001b[0;34m\u001b[0m\u001b[0m\n\u001b[0m\u001b[1;32m      7\u001b[0m         \u001b[0mprint\u001b[0m\u001b[0;34m(\u001b[0m\u001b[0mmeses\u001b[0m\u001b[0;34m[\u001b[0m\u001b[0mi\u001b[0m\u001b[0;34m]\u001b[0m\u001b[0;34m)\u001b[0m\u001b[0;34m\u001b[0m\u001b[0;34m\u001b[0m\u001b[0m\n\u001b[1;32m      8\u001b[0m \u001b[0;34m\u001b[0m\u001b[0m\n",
            "\u001b[0;31mTypeError\u001b[0m: 'int' object is not iterable"
          ]
        }
      ]
    },
    {
      "cell_type": "markdown",
      "metadata": {
        "id": "g-nO44MddmR7"
      },
      "source": [
        "## Ejercicio 6"
      ]
    },
    {
      "cell_type": "markdown",
      "metadata": {
        "id": "HvEAwlpGdmR7"
      },
      "source": [
        "El archivo <a href=\"https://drive.google.com/file/d/1V06-QPe36PIIMq0z6Nm8_02mHB1KX_Cu/view?usp=sharing\"> cotizacion.csv</a> contiene las cotizaciones de las empresas del IBEX35 con las siguientes columnas: <font color=#B40431>Nombre</font> (nombre de la empresa), <font color=#B40431>Final</font> (precio de la acción al cierre de bolsa), <font color=#B40431>Máximo</font> (precio máximo de la acción durante la jornada), <font color=#B40431>Mínimo</font> (precio mínimo de la acción durante la jornada), <font color=#B40431>Volumen</font> (Volumen al cierre de bolsa), <font color=#B40431>Efectivo</font> (capitalización al cierre en miles de euros). Construir una función que construya un DataFrame a partir del un archivo con el formato anterior y devuelva otro DataFrame con el mínimo, el máximo y la media de dada columna."
      ]
    },
    {
      "cell_type": "code",
      "metadata": {
        "id": "eXpqOcRhdmR7"
      },
      "source": [
        ""
      ],
      "execution_count": null,
      "outputs": []
    },
    {
      "cell_type": "markdown",
      "metadata": {
        "id": "RMcD9E7wdmR7"
      },
      "source": [
        "## Ejercicio 7"
      ]
    },
    {
      "cell_type": "markdown",
      "metadata": {
        "id": "rtySjVhjdmR7"
      },
      "source": [
        "El fichero <a href=\"https://drive.google.com/file/d/17KGu5s3mCHLdrg3vuA6sqtLOKZEQYO7c/view?usp=sharing\">titanic.csv</a> contiene información sobre los pasajeros del Titanic. Escribir un programa con los siguientes requisitos:\n",
        "<ol>\n",
        "<li>Generar un DataFrame con los datos del archivo.</li>\n",
        "<li>Mostrar por pantalla las dimensiones del DataFrame, el número de datos que contiene, los nombres de sus columnas y filas, los tipos de datos de las columnas, las 10 primeras filas y las 10 últimas filas</li>\n",
        "<li>Mostrar por pantalla los datos del pasajero con identificador 148.</li>\n",
        "<li>Mostrar por pantalla las filas pares del DataFrame.</li>\n",
        "<li>Mostrar por pantalla los nombres de las personas que iban en primera clase ordenadas alfabéticamente.</li>\n",
        "<li>Mostrar por pantalla el porcentaje de personas que sobrevivieron y murieron.</li>\n",
        "<li>Mostrar por pantalla el porcentaje de personas que sobrevivieron en cada clase.</li>\n",
        "<li>Eliminar del DataFrame los pasajeros con edad desconocida.</li>\n",
        "<li>Mostrar por pantalla la edad media de las mujeres que viajaban en cada clase.</li>\n",
        "<li>Añadir una nueva columna booleana para ver si el pasajero era menor de edad o no.</li>\n",
        "<li>Mostrar por pantalla el porcentaje de menores y mayores de edad que sobrevivieron en cada clase.</li>\n",
        "</ol>"
      ]
    },
    {
      "cell_type": "code",
      "metadata": {
        "id": "R5XEm6agdmR7"
      },
      "source": [
        ""
      ],
      "execution_count": null,
      "outputs": []
    },
    {
      "cell_type": "markdown",
      "metadata": {
        "id": "xIvOYaiKdmR7"
      },
      "source": [
        "## Ejercicio 8"
      ]
    },
    {
      "cell_type": "markdown",
      "metadata": {
        "id": "oQYqUlzRdmR7"
      },
      "source": [
        "Los archivos <a href=\"https://drive.google.com/file/d/1Ms2r2k6DscmL7ymRZp6bXk3Z-RWsqtjz/view?usp=sharing\">emisiones-2016.csv</a>, <a href=\"https://drive.google.com/file/d/1R5JLin8d2BhHFKSQhX2hP2bGPRCvR8Xj/view?usp=sharing\">emisiones-2017.csv</a>, <a href=\"https://drive.google.com/file/d/1qoB3OcPDUkerswT02uAvLshTT7J0qTWQ/view?usp=sharing\">emisiones-2018.csv</a> y <a href=\"https://drive.google.com/file/d/1pAbH8EwHm9KkUzyiy56auH0DvLT_DkAO/view?usp=sharing\">emisiones-2019.csv</a>, contienen datos sobre las emisiones contaminates en la Ciudad Autónoma de Buenos Aires en los años 2016, 2017, 2018 y 2019 respectivamente. Escribir un programa con los siguientes requisitos:\n",
        "<ol>\n",
        "<li>Generar un DataFrame con los datos de los cuatro archivos.</li>\n",
        "<li>Filtrar las columnas del DataFrame para quedarse con las columnas ESTACION, MAGNITUD, AÑO, MES y las correspondientes a los días D01, D02, etc.</li>\n",
        "<li>Reestructurar el DataFrame para que los valores de los contaminantes de las columnas de los días aparezcan en una única columna.</li>\n",
        "<li>Añadir una columna con la fecha a partir de la concatenación del año, el mes y el día (usar el módulo <font color=#B40431>datetime</font>).</li>\n",
        "<li>Eliminar las filas con fechas no válidas (utilizar la función <font color=#B40431>isnat</font> del módulo <font color=#B40431>numpy</font>) y ordenar el DataFrame por estaciones, contaminantes y fecha.</li>\n",
        "<li>Mostrar por pantalla las estaciones y los contaminantes disponibles en el DataFrame.</li>\n",
        "<li>Crear una función que reciba una estación, un contaminante y un rango de fechas y devuelva una serie con las emisiones del contaminante dado en la estación y rango de fechas dado.</li>\n",
        "<li>Mostrar un resumen descriptivo (mímino, máximo, media, etc) para cada contaminante.</li>\n",
        "<li>Mostrar un resumen descriptivo para cada contaminante por distritos.</li>\n",
        "<li>Crear una función que reciba una estación y un contaminante y devuelva un resumen descriptivo de las emisiones del contaminante indicado en la estadión indicada.</li>\n",
        "<li>Crear una función que devuelva las emisiones medias mensuales de un contaminante y un año dados para todos las estaciones.</li>\n",
        "<li>Crear un función que reciba una estación de medición y devuelva un DataFrame con las medias mensuales de los distintos tipos de contaminantes.</li>\n",
        "</ol>"
      ]
    },
    {
      "cell_type": "code",
      "metadata": {
        "id": "G0T-p2INdmR7"
      },
      "source": [
        ""
      ],
      "execution_count": null,
      "outputs": []
    }
  ]
}